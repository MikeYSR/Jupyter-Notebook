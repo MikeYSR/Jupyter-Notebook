{
  "metadata": {
    "kernelspec": {
      "name": "python",
      "display_name": "Python (Pyodide)",
      "language": "python"
    },
    "language_info": {
      "codemirror_mode": {
        "name": "python",
        "version": 3
      },
      "file_extension": ".py",
      "mimetype": "text/x-python",
      "name": "python",
      "nbconvert_exporter": "python",
      "pygments_lexer": "ipython3",
      "version": "3.8"
    }
  },
  "nbformat_minor": 4,
  "nbformat": 4,
  "cells": [
    {
      "cell_type": "markdown",
      "source": "## Bloc de notas",
      "metadata": {}
    },
    {
      "cell_type": "markdown",
      "source": "### In this notebook, Data Science Tools and Ecosystem are summarized.",
      "metadata": {}
    },
    {
      "cell_type": "markdown",
      "source": "**Objectives**\n- Comprender los conceptos básicos de Python.\n- Aprender a realizar operaciones matemáticas básicas.\n- Convertir unidades de tiempo y realizar conversiones entre minutos y horas.\n- Familiarizarse con el uso de celdas de Markdown para documentación.\n- Aplicar habilidades de codificación para resolver problemas prácticos.",
      "metadata": {}
    },
    {
      "cell_type": "markdown",
      "source": "### Some of the popular languages that Data Scientists use are:\n1. Python\n2. R\n3. SQL\n",
      "metadata": {}
    },
    {
      "cell_type": "markdown",
      "source": "### Some of the commonly used libraries used by Data Scientists include:\n",
      "metadata": {}
    },
    {
      "cell_type": "markdown",
      "source": "1. Pandas\n2. NumPy\n3. Scikit-learn",
      "metadata": {}
    },
    {
      "cell_type": "markdown",
      "source": "### Create a markdown cell with a table of Data Science tools\n| Herramientas de Código Abierto |\n|--------------------------------|\n| Jupyter Notebook               |\n| Visual Studio Code             |\n| RStudio                        |\n",
      "metadata": {}
    },
    {
      "cell_type": "markdown",
      "source": "### Below are a few examples of evaluating arithmetic expressions in Python.\n Esta es una expresión aritmética simple para luego agregar números enteros",
      "metadata": {}
    },
    {
      "cell_type": "code",
      "source": "# Esto convertirá 200 minutos a horas dividiendo entre 60\nminutos = 200\nhoras = minutos / 60\nhoras\n\n",
      "metadata": {
        "trusted": true
      },
      "outputs": [
        {
          "execution_count": 30,
          "output_type": "execute_result",
          "data": {
            "text/plain": "3.3333333333333335"
          },
          "metadata": {}
        }
      ],
      "execution_count": 30
    },
    {
      "cell_type": "markdown",
      "source": "## Author\n\nMike yts ",
      "metadata": {}
    }
  ]
}